{
 "cells": [
  {
   "cell_type": "code",
   "execution_count": 4,
   "id": "8c24e2b4",
   "metadata": {},
   "outputs": [],
   "source": [
    "import os\n",
    "import glob\n",
    "import re\n",
    "import pandas as pd\n",
    "\n",
    "sample_id = 'HCC1395.HCC1395N'\n",
    "suffixes = \".tbi\"\n",
    "r = re.compile(f\"{sample_id}*\")\n",
    "sample_files = os.listdir(\"./\")\n",
    "sample_files = list(filter(r.match, sample_files))\n",
    "sample_files = [ file for file in sample_files if not file.endswith(suffixes) ]\n",
    "sample_files\n",
    "\n",
    "if len(sample_files) == 1:\n",
    "    os.rename(sample_files[0], f'{sample_id}.combined.vcf.gz')\n",
    "    os.rename(f'{sample_files[0]}.tbi', f'{sample_id}.combined.vcf.gz.tbi')\n",
    "else:\n",
    "    print('fuck yeah')"
   ]
  },
  {
   "cell_type": "code",
   "execution_count": null,
   "id": "5937cad9",
   "metadata": {},
   "outputs": [],
   "source": []
  }
 ],
 "metadata": {
  "kernelspec": {
   "display_name": "Python 3",
   "language": "python",
   "name": "python3"
  },
  "language_info": {
   "codemirror_mode": {
    "name": "ipython",
    "version": 3
   },
   "file_extension": ".py",
   "mimetype": "text/x-python",
   "name": "python",
   "nbconvert_exporter": "python",
   "pygments_lexer": "ipython3",
   "version": "3.6.15"
  }
 },
 "nbformat": 4,
 "nbformat_minor": 5
}
